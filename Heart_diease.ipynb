{
 "cells": [
  {
   "metadata": {
    "ExecuteTime": {
     "end_time": "2024-12-04T05:12:41.277166Z",
     "start_time": "2024-12-04T05:12:41.272929Z"
    }
   },
   "cell_type": "code",
   "source": [
    "import numpy as np\n",
    "import pandas as pd\n",
    "from sklearn.model_selection import train_test_split\n",
    "from sklearn.linear_model import LinearRegression \n",
    "from sklearn.linear_model import LogisticRegression\n",
    "from sklearn.metrics import accuracy_score\n",
    "from sklearn.metrics import classification_report\n",
    "from sklearn.metrics import confusion_matrix\n",
    "from sklearn.multiclass import OneVsOneClassifier\n",
    "from sklearn.ensemble import VotingClassifier\n",
    "from sklearn.ensemble import VotingRegressor\n"
   ],
   "id": "b1ab06829eee7211",
   "outputs": [],
   "execution_count": 20
  },
  {
   "metadata": {},
   "cell_type": "markdown",
   "source": "fast",
   "id": "cea2b69c5fba3f1d"
  },
  {
   "metadata": {
    "ExecuteTime": {
     "end_time": "2024-12-04T05:12:41.483945Z",
     "start_time": "2024-12-04T05:12:41.290261Z"
    }
   },
   "cell_type": "code",
   "source": [
    "\n",
    "df = pd.read_csv('cleaned_merged_heart_dataset.csv')\n",
    "# 0 are those who fasted and their lab data should be good\n",
    "fasted = df[df['fbs'] == 0]\n",
    "#all of these are discrete\n",
    "x = fasted[['thalachh','oldpeak','trestbps','chol','age']]\n",
    "y = fasted['target']        \n",
    "train_x, test_x, train_y, test_y = train_test_split(x, y, test_size=0.2, random_state=53)\n",
    "log1 = LogisticRegression(max_iter=1000).fit(train_x, train_y) \n",
    "log1_pred = log1.predict(test_x)\n",
    " #accuracy = accuracy_score(test_y, lin_pred)\n",
    "x1 = fasted['ca']\n",
    "x2 = fasted['sex']\n",
    "y1 = fasted['target']\n",
    "        \n",
    "#for ca\n",
    "train_x1, test_x1, train_y1, test_y1 = train_test_split(x1.values.reshape(-1, 1), y1, test_size=0.2, random_state=53)\n",
    "real_classifier = LogisticRegression(max_iter=1000)\n",
    "onevsone = OneVsOneClassifier(real_classifier).fit(train_x1, train_y1)\n",
    "#data is discrete but not binary so this secondary classifier is needed to circumvent that\n",
    "#for sex\n",
    "train_x2, test_x2, train_y2, test_y2 = train_test_split(x2.values.reshape(-1, 1), y1, test_size=0.2, random_state=53)\n",
    "log = real_classifier.fit(train_x, train_y2)\n",
    "#combines models through stacking decided on final logreg model to stack all \n",
    "\n",
    "x = fasted[['thalachh','oldpeak','trestbps','chol','age','ca','sex']]\n",
    "y = fasted['target']\n",
    "train_x, test_x, train_y, test_y = train_test_split(x, y, test_size=0.2, random_state=53)\n",
    "\n",
    "ensemble1 = VotingClassifier(estimators=[('OnevsOne', onevsone) , ('Logistic Regression', log),('log1', log1) ], voting = 'hard').fit(train_x, train_y)\n",
    "\n",
    "ensemble1_predict = ensemble1.predict(test_x)\n",
    "accuracy_ensemble1 = accuracy_score(test_y, ensemble1_predict)\n",
    "print(accuracy_ensemble1)\n",
    "print(\"Classification Report\", classification_report(test_y, ensemble1_predict))\n"
   ],
   "id": "4f3d31dbbd5903d",
   "outputs": [
    {
     "name": "stdout",
     "output_type": "stream",
     "text": [
      "0.7298136645962733\n",
      "Classification Report               precision    recall  f1-score   support\n",
      "\n",
      "           0       0.73      0.64      0.68       146\n",
      "           1       0.73      0.81      0.77       176\n",
      "\n",
      "    accuracy                           0.73       322\n",
      "   macro avg       0.73      0.72      0.72       322\n",
      "weighted avg       0.73      0.73      0.73       322\n",
      "\n"
     ]
    }
   ],
   "execution_count": 21
  },
  {
   "metadata": {},
   "cell_type": "markdown",
   "source": "no fast",
   "id": "fd5950f399beba0f"
  },
  {
   "metadata": {
    "ExecuteTime": {
     "end_time": "2024-12-04T05:12:41.673829Z",
     "start_time": "2024-12-04T05:12:41.485067Z"
    }
   },
   "cell_type": "code",
   "source": [
    "\n",
    "no_fast = df[df['fbs'] == 0]\n",
    "#all of these are discrete\n",
    "x = no_fast[['thalachh','oldpeak','trestbps','chol','age']]\n",
    "y = no_fast['target']        \n",
    "train_x, test_x, train_y, test_y = train_test_split(x, y, test_size=0.2, random_state=53)\n",
    "log1 = LogisticRegression(max_iter=1000).fit(train_x, train_y)\n",
    "log1_pred = log1.predict(test_x)\n",
    "#accuracy = accuracy_score(test_y, lin_pred)\n",
    "x1 = no_fast['ca']\n",
    "x2 = no_fast['sex']\n",
    "y1 = no_fast['target']\n",
    "\n",
    "#for ca\n",
    "train_x1, test_x1, train_y1, test_y1 = train_test_split(x1.values.reshape(-1, 1), y1, test_size=0.2, random_state=53)\n",
    "real_classifier = LogisticRegression(max_iter=1000)\n",
    "onevsone = OneVsOneClassifier(real_classifier).fit(train_x1, train_y1)\n",
    "#data is discrete but not binary so this secondary classifier is needed to circumvent that\n",
    "#for sex\n",
    "train_x2, test_x2, train_y2, test_y2 = train_test_split(x2.values.reshape(-1, 1), y1, test_size=0.2, random_state=53)\n",
    "log = real_classifier.fit(train_x, train_y2)\n",
    "#combines models through stacking decided on final logreg model to stack all \n",
    "\n",
    "x = no_fast[['thalachh','oldpeak','trestbps','chol','age','ca','sex']]\n",
    "y = no_fast['target']\n",
    "train_x, test_x, train_y, test_y = train_test_split(x, y, test_size=0.2, random_state=53)\n",
    "\n",
    "ensemble1 = VotingClassifier(estimators=[('OnevsOne', onevsone) , ('Logistic Regression', log),('log1', log1) ], voting = 'hard').fit(train_x, train_y)\n",
    "\n",
    "ensemble1_predict = ensemble1.predict(test_x)\n",
    "accuracy_ensemble1 = accuracy_score(test_y, ensemble1_predict)\n",
    "print(accuracy_ensemble1)\n",
    "# Print the classification report and confusion matrix\n",
    "print(\"Classification Report\", classification_report(test_y, ensemble1_predict))\n",
    "\n"
   ],
   "id": "47b31a24000365bb",
   "outputs": [
    {
     "name": "stdout",
     "output_type": "stream",
     "text": [
      "0.7298136645962733\n",
      "Classification Report               precision    recall  f1-score   support\n",
      "\n",
      "           0       0.73      0.64      0.68       146\n",
      "           1       0.73      0.81      0.77       176\n",
      "\n",
      "    accuracy                           0.73       322\n",
      "   macro avg       0.73      0.72      0.72       322\n",
      "weighted avg       0.73      0.73      0.73       322\n",
      "\n"
     ]
    }
   ],
   "execution_count": 22
  },
  {
   "metadata": {
    "ExecuteTime": {
     "end_time": "2024-12-04T05:16:50.781797Z",
     "start_time": "2024-12-04T05:16:50.677829Z"
    }
   },
   "cell_type": "code",
   "source": [
    "the_input = pd.read_csv('test_case.csv')\n",
    "\n",
    "# input should be formated the same as training data\n",
    "def predictor(the_input):\n",
    "    fbs = the_input.at[0,'fbs']\n",
    "    print(fbs)\n",
    "    if fbs == 0:\n",
    "        df = pd.read_csv('cleaned_merged_heart_dataset.csv')\n",
    "        # 0 are those who fasted and their lab data should be good\n",
    "        df = df[df['fbs'] == 0]\n",
    "    \n",
    "    else:\n",
    "        df = pd.read_csv('cleaned_merged_heart_dataset.csv')\n",
    "        # 0 are those who fasted and their lab data should be good\n",
    "        df = df[df['fbs'] == 1]\n",
    "    # all of these are discrete\n",
    "    x = df[['thalachh', 'oldpeak', 'trestbps', 'chol', 'age']]\n",
    "    y = df['target']\n",
    "    \n",
    "    train_x, test_x, train_y, test_y = train_test_split(x, y, test_size=0.2, random_state=53)\n",
    "    log1 = LogisticRegression(max_iter=1000).fit(train_x, train_y)\n",
    "    log1_pred = log1.predict(test_x)\n",
    "    # accuracy = accuracy_score(test_y, lin_pred)\n",
    "    x1 = df['ca']\n",
    "    x2 = df['sex']\n",
    "    y1 = df['target']\n",
    "    \n",
    "    # for ca\n",
    "    train_x1, test_x1, train_y1, test_y1 = train_test_split(x1.values.reshape(-1, 1), y1, test_size=0.2,\n",
    "                                                            random_state=53)\n",
    "    real_classifier = LogisticRegression(max_iter=1000)\n",
    "    onevsone = OneVsOneClassifier(real_classifier).fit(train_x1, train_y1)\n",
    "    # data is discrete but not binary so this secondary classifier is needed to circumvent that\n",
    "    # for sex\n",
    "    train_x2, test_x2, train_y2, test_y2 = train_test_split(x2.values.reshape(-1, 1), y1, test_size=0.2,\n",
    "                                                            random_state=53)\n",
    "    log = real_classifier.fit(train_x, train_y2)\n",
    "    # combines models through stacking decided on final logreg model to stack all\n",
    "    \n",
    "    x = df[['thalachh', 'oldpeak', 'trestbps', 'chol', 'age', 'ca', 'sex']]\n",
    "    y = df['target']\n",
    "    train_x, test_x, train_y, test_y = train_test_split(x, y, test_size=0.2, random_state=53)\n",
    "    \n",
    "    ensemble1 = VotingClassifier(estimators=[('OnevsOne', onevsone), ('Logistic Regression', log), ('log1', log1)],\n",
    "                                 voting='hard').fit(train_x, train_y)\n",
    "    ensemble1_predict = ensemble1.predict(the_input)\n",
    "    return ensemble1_predict\n",
    "predictor(the_input)"
   ],
   "id": "d6f9ae499f070d0c",
   "outputs": [
    {
     "name": "stdout",
     "output_type": "stream",
     "text": [
      "1\n"
     ]
    },
    {
     "ename": "ValueError",
     "evalue": "The feature names should match those that were passed during fit.\nFeature names unseen at fit time:\n- cp\n- exang\n- fbs\n- restecg\n- slope\n- ...\n",
     "output_type": "error",
     "traceback": [
      "\u001B[1;31m---------------------------------------------------------------------------\u001B[0m",
      "\u001B[1;31mValueError\u001B[0m                                Traceback (most recent call last)",
      "Cell \u001B[1;32mIn[30], line 48\u001B[0m\n\u001B[0;32m     46\u001B[0m     ensemble1_predict \u001B[38;5;241m=\u001B[39m ensemble1\u001B[38;5;241m.\u001B[39mpredict(the_input)\n\u001B[0;32m     47\u001B[0m     \u001B[38;5;28;01mreturn\u001B[39;00m ensemble1_predict\n\u001B[1;32m---> 48\u001B[0m predictor(the_input)\n",
      "Cell \u001B[1;32mIn[30], line 46\u001B[0m, in \u001B[0;36mpredictor\u001B[1;34m(the_input)\u001B[0m\n\u001B[0;32m     42\u001B[0m train_x, test_x, train_y, test_y \u001B[38;5;241m=\u001B[39m train_test_split(x, y, test_size\u001B[38;5;241m=\u001B[39m\u001B[38;5;241m0.2\u001B[39m, random_state\u001B[38;5;241m=\u001B[39m\u001B[38;5;241m53\u001B[39m)\n\u001B[0;32m     44\u001B[0m ensemble1 \u001B[38;5;241m=\u001B[39m VotingClassifier(estimators\u001B[38;5;241m=\u001B[39m[(\u001B[38;5;124m'\u001B[39m\u001B[38;5;124mOnevsOne\u001B[39m\u001B[38;5;124m'\u001B[39m, onevsone), (\u001B[38;5;124m'\u001B[39m\u001B[38;5;124mLogistic Regression\u001B[39m\u001B[38;5;124m'\u001B[39m, log), (\u001B[38;5;124m'\u001B[39m\u001B[38;5;124mlog1\u001B[39m\u001B[38;5;124m'\u001B[39m, log1)],\n\u001B[0;32m     45\u001B[0m                              voting\u001B[38;5;241m=\u001B[39m\u001B[38;5;124m'\u001B[39m\u001B[38;5;124mhard\u001B[39m\u001B[38;5;124m'\u001B[39m)\u001B[38;5;241m.\u001B[39mfit(train_x, train_y)\n\u001B[1;32m---> 46\u001B[0m ensemble1_predict \u001B[38;5;241m=\u001B[39m ensemble1\u001B[38;5;241m.\u001B[39mpredict(the_input)\n\u001B[0;32m     47\u001B[0m \u001B[38;5;28;01mreturn\u001B[39;00m ensemble1_predict\n",
      "File \u001B[1;32m~\\anaconda3\\Lib\\site-packages\\sklearn\\ensemble\\_voting.py:386\u001B[0m, in \u001B[0;36mVotingClassifier.predict\u001B[1;34m(self, X)\u001B[0m\n\u001B[0;32m    383\u001B[0m     maj \u001B[38;5;241m=\u001B[39m np\u001B[38;5;241m.\u001B[39margmax(\u001B[38;5;28mself\u001B[39m\u001B[38;5;241m.\u001B[39mpredict_proba(X), axis\u001B[38;5;241m=\u001B[39m\u001B[38;5;241m1\u001B[39m)\n\u001B[0;32m    385\u001B[0m \u001B[38;5;28;01melse\u001B[39;00m:  \u001B[38;5;66;03m# 'hard' voting\u001B[39;00m\n\u001B[1;32m--> 386\u001B[0m     predictions \u001B[38;5;241m=\u001B[39m \u001B[38;5;28mself\u001B[39m\u001B[38;5;241m.\u001B[39m_predict(X)\n\u001B[0;32m    387\u001B[0m     maj \u001B[38;5;241m=\u001B[39m np\u001B[38;5;241m.\u001B[39mapply_along_axis(\n\u001B[0;32m    388\u001B[0m         \u001B[38;5;28;01mlambda\u001B[39;00m x: np\u001B[38;5;241m.\u001B[39margmax(np\u001B[38;5;241m.\u001B[39mbincount(x, weights\u001B[38;5;241m=\u001B[39m\u001B[38;5;28mself\u001B[39m\u001B[38;5;241m.\u001B[39m_weights_not_none)),\n\u001B[0;32m    389\u001B[0m         axis\u001B[38;5;241m=\u001B[39m\u001B[38;5;241m1\u001B[39m,\n\u001B[0;32m    390\u001B[0m         arr\u001B[38;5;241m=\u001B[39mpredictions,\n\u001B[0;32m    391\u001B[0m     )\n\u001B[0;32m    393\u001B[0m maj \u001B[38;5;241m=\u001B[39m \u001B[38;5;28mself\u001B[39m\u001B[38;5;241m.\u001B[39mle_\u001B[38;5;241m.\u001B[39minverse_transform(maj)\n",
      "File \u001B[1;32m~\\anaconda3\\Lib\\site-packages\\sklearn\\ensemble\\_voting.py:76\u001B[0m, in \u001B[0;36m_BaseVoting._predict\u001B[1;34m(self, X)\u001B[0m\n\u001B[0;32m     74\u001B[0m \u001B[38;5;28;01mdef\u001B[39;00m \u001B[38;5;21m_predict\u001B[39m(\u001B[38;5;28mself\u001B[39m, X):\n\u001B[0;32m     75\u001B[0m \u001B[38;5;250m    \u001B[39m\u001B[38;5;124;03m\"\"\"Collect results from clf.predict calls.\"\"\"\u001B[39;00m\n\u001B[1;32m---> 76\u001B[0m     \u001B[38;5;28;01mreturn\u001B[39;00m np\u001B[38;5;241m.\u001B[39masarray([est\u001B[38;5;241m.\u001B[39mpredict(X) \u001B[38;5;28;01mfor\u001B[39;00m est \u001B[38;5;129;01min\u001B[39;00m \u001B[38;5;28mself\u001B[39m\u001B[38;5;241m.\u001B[39mestimators_])\u001B[38;5;241m.\u001B[39mT\n",
      "File \u001B[1;32m~\\anaconda3\\Lib\\site-packages\\sklearn\\multiclass.py:938\u001B[0m, in \u001B[0;36mOneVsOneClassifier.predict\u001B[1;34m(self, X)\u001B[0m\n\u001B[0;32m    921\u001B[0m \u001B[38;5;28;01mdef\u001B[39;00m \u001B[38;5;21mpredict\u001B[39m(\u001B[38;5;28mself\u001B[39m, X):\n\u001B[0;32m    922\u001B[0m \u001B[38;5;250m    \u001B[39m\u001B[38;5;124;03m\"\"\"Estimate the best class label for each sample in X.\u001B[39;00m\n\u001B[0;32m    923\u001B[0m \n\u001B[0;32m    924\u001B[0m \u001B[38;5;124;03m    This is implemented as ``argmax(decision_function(X), axis=1)`` which\u001B[39;00m\n\u001B[1;32m   (...)\u001B[0m\n\u001B[0;32m    936\u001B[0m \u001B[38;5;124;03m        Predicted multi-class targets.\u001B[39;00m\n\u001B[0;32m    937\u001B[0m \u001B[38;5;124;03m    \"\"\"\u001B[39;00m\n\u001B[1;32m--> 938\u001B[0m     Y \u001B[38;5;241m=\u001B[39m \u001B[38;5;28mself\u001B[39m\u001B[38;5;241m.\u001B[39mdecision_function(X)\n\u001B[0;32m    939\u001B[0m     \u001B[38;5;28;01mif\u001B[39;00m \u001B[38;5;28mself\u001B[39m\u001B[38;5;241m.\u001B[39mn_classes_ \u001B[38;5;241m==\u001B[39m \u001B[38;5;241m2\u001B[39m:\n\u001B[0;32m    940\u001B[0m         thresh \u001B[38;5;241m=\u001B[39m _threshold_for_binary_predict(\u001B[38;5;28mself\u001B[39m\u001B[38;5;241m.\u001B[39mestimators_[\u001B[38;5;241m0\u001B[39m])\n",
      "File \u001B[1;32m~\\anaconda3\\Lib\\site-packages\\sklearn\\multiclass.py:967\u001B[0m, in \u001B[0;36mOneVsOneClassifier.decision_function\u001B[1;34m(self, X)\u001B[0m\n\u001B[0;32m    945\u001B[0m \u001B[38;5;250m\u001B[39m\u001B[38;5;124;03m\"\"\"Decision function for the OneVsOneClassifier.\u001B[39;00m\n\u001B[0;32m    946\u001B[0m \n\u001B[0;32m    947\u001B[0m \u001B[38;5;124;03mThe decision values for the samples are computed by adding the\u001B[39;00m\n\u001B[1;32m   (...)\u001B[0m\n\u001B[0;32m    964\u001B[0m \u001B[38;5;124;03m        scikit-learn conventions for binary classification.\u001B[39;00m\n\u001B[0;32m    965\u001B[0m \u001B[38;5;124;03m\"\"\"\u001B[39;00m\n\u001B[0;32m    966\u001B[0m check_is_fitted(\u001B[38;5;28mself\u001B[39m)\n\u001B[1;32m--> 967\u001B[0m X \u001B[38;5;241m=\u001B[39m \u001B[38;5;28mself\u001B[39m\u001B[38;5;241m.\u001B[39m_validate_data(\n\u001B[0;32m    968\u001B[0m     X,\n\u001B[0;32m    969\u001B[0m     accept_sparse\u001B[38;5;241m=\u001B[39m\u001B[38;5;28;01mTrue\u001B[39;00m,\n\u001B[0;32m    970\u001B[0m     force_all_finite\u001B[38;5;241m=\u001B[39m\u001B[38;5;28;01mFalse\u001B[39;00m,\n\u001B[0;32m    971\u001B[0m     reset\u001B[38;5;241m=\u001B[39m\u001B[38;5;28;01mFalse\u001B[39;00m,\n\u001B[0;32m    972\u001B[0m )\n\u001B[0;32m    974\u001B[0m indices \u001B[38;5;241m=\u001B[39m \u001B[38;5;28mself\u001B[39m\u001B[38;5;241m.\u001B[39mpairwise_indices_\n\u001B[0;32m    975\u001B[0m \u001B[38;5;28;01mif\u001B[39;00m indices \u001B[38;5;129;01mis\u001B[39;00m \u001B[38;5;28;01mNone\u001B[39;00m:\n",
      "File \u001B[1;32m~\\anaconda3\\Lib\\site-packages\\sklearn\\base.py:608\u001B[0m, in \u001B[0;36mBaseEstimator._validate_data\u001B[1;34m(self, X, y, reset, validate_separately, cast_to_ndarray, **check_params)\u001B[0m\n\u001B[0;32m    537\u001B[0m \u001B[38;5;28;01mdef\u001B[39;00m \u001B[38;5;21m_validate_data\u001B[39m(\n\u001B[0;32m    538\u001B[0m     \u001B[38;5;28mself\u001B[39m,\n\u001B[0;32m    539\u001B[0m     X\u001B[38;5;241m=\u001B[39m\u001B[38;5;124m\"\u001B[39m\u001B[38;5;124mno_validation\u001B[39m\u001B[38;5;124m\"\u001B[39m,\n\u001B[1;32m   (...)\u001B[0m\n\u001B[0;32m    544\u001B[0m     \u001B[38;5;241m*\u001B[39m\u001B[38;5;241m*\u001B[39mcheck_params,\n\u001B[0;32m    545\u001B[0m ):\n\u001B[0;32m    546\u001B[0m \u001B[38;5;250m    \u001B[39m\u001B[38;5;124;03m\"\"\"Validate input data and set or check the `n_features_in_` attribute.\u001B[39;00m\n\u001B[0;32m    547\u001B[0m \n\u001B[0;32m    548\u001B[0m \u001B[38;5;124;03m    Parameters\u001B[39;00m\n\u001B[1;32m   (...)\u001B[0m\n\u001B[0;32m    606\u001B[0m \u001B[38;5;124;03m        validated.\u001B[39;00m\n\u001B[0;32m    607\u001B[0m \u001B[38;5;124;03m    \"\"\"\u001B[39;00m\n\u001B[1;32m--> 608\u001B[0m     \u001B[38;5;28mself\u001B[39m\u001B[38;5;241m.\u001B[39m_check_feature_names(X, reset\u001B[38;5;241m=\u001B[39mreset)\n\u001B[0;32m    610\u001B[0m     \u001B[38;5;28;01mif\u001B[39;00m y \u001B[38;5;129;01mis\u001B[39;00m \u001B[38;5;28;01mNone\u001B[39;00m \u001B[38;5;129;01mand\u001B[39;00m \u001B[38;5;28mself\u001B[39m\u001B[38;5;241m.\u001B[39m_get_tags()[\u001B[38;5;124m\"\u001B[39m\u001B[38;5;124mrequires_y\u001B[39m\u001B[38;5;124m\"\u001B[39m]:\n\u001B[0;32m    611\u001B[0m         \u001B[38;5;28;01mraise\u001B[39;00m \u001B[38;5;167;01mValueError\u001B[39;00m(\n\u001B[0;32m    612\u001B[0m             \u001B[38;5;124mf\u001B[39m\u001B[38;5;124m\"\u001B[39m\u001B[38;5;124mThis \u001B[39m\u001B[38;5;132;01m{\u001B[39;00m\u001B[38;5;28mself\u001B[39m\u001B[38;5;241m.\u001B[39m\u001B[38;5;18m__class__\u001B[39m\u001B[38;5;241m.\u001B[39m\u001B[38;5;18m__name__\u001B[39m\u001B[38;5;132;01m}\u001B[39;00m\u001B[38;5;124m estimator \u001B[39m\u001B[38;5;124m\"\u001B[39m\n\u001B[0;32m    613\u001B[0m             \u001B[38;5;124m\"\u001B[39m\u001B[38;5;124mrequires y to be passed, but the target y is None.\u001B[39m\u001B[38;5;124m\"\u001B[39m\n\u001B[0;32m    614\u001B[0m         )\n",
      "File \u001B[1;32m~\\anaconda3\\Lib\\site-packages\\sklearn\\base.py:535\u001B[0m, in \u001B[0;36mBaseEstimator._check_feature_names\u001B[1;34m(self, X, reset)\u001B[0m\n\u001B[0;32m    530\u001B[0m \u001B[38;5;28;01mif\u001B[39;00m \u001B[38;5;129;01mnot\u001B[39;00m missing_names \u001B[38;5;129;01mand\u001B[39;00m \u001B[38;5;129;01mnot\u001B[39;00m unexpected_names:\n\u001B[0;32m    531\u001B[0m     message \u001B[38;5;241m+\u001B[39m\u001B[38;5;241m=\u001B[39m (\n\u001B[0;32m    532\u001B[0m         \u001B[38;5;124m\"\u001B[39m\u001B[38;5;124mFeature names must be in the same order as they were in fit.\u001B[39m\u001B[38;5;130;01m\\n\u001B[39;00m\u001B[38;5;124m\"\u001B[39m\n\u001B[0;32m    533\u001B[0m     )\n\u001B[1;32m--> 535\u001B[0m \u001B[38;5;28;01mraise\u001B[39;00m \u001B[38;5;167;01mValueError\u001B[39;00m(message)\n",
      "\u001B[1;31mValueError\u001B[0m: The feature names should match those that were passed during fit.\nFeature names unseen at fit time:\n- cp\n- exang\n- fbs\n- restecg\n- slope\n- ...\n"
     ]
    }
   ],
   "execution_count": 30
  },
  {
   "metadata": {
    "ExecuteTime": {
     "end_time": "2024-12-04T05:12:41.795501Z",
     "start_time": "2024-12-04T05:12:41.795501Z"
    }
   },
   "cell_type": "code",
   "source": "",
   "id": "8b6e7888fe2d8340",
   "outputs": [],
   "execution_count": null
  },
  {
   "metadata": {},
   "cell_type": "code",
   "source": "",
   "id": "b769b9975c0534c4",
   "outputs": [],
   "execution_count": null
  }
 ],
 "metadata": {
  "kernelspec": {
   "display_name": "Python 3",
   "language": "python",
   "name": "python3"
  },
  "language_info": {
   "codemirror_mode": {
    "name": "ipython",
    "version": 2
   },
   "file_extension": ".py",
   "mimetype": "text/x-python",
   "name": "python",
   "nbconvert_exporter": "python",
   "pygments_lexer": "ipython2",
   "version": "2.7.6"
  }
 },
 "nbformat": 4,
 "nbformat_minor": 5
}
